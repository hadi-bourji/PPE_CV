{
 "cells": [
  {
   "cell_type": "code",
   "execution_count": 2,
   "id": "e72dee10",
   "metadata": {},
   "outputs": [],
   "source": [
    "import torch\n",
    "from torchvision.ops import batched_nms\n",
    "from torch.utils.data import DataLoader\n",
    "from yolox.test_weights import download_weights, load_pretrained_weights\n",
    "from yolox.model import create_yolox_s\n",
    "from data_utils.ppe_dataset import PPE_DATA"
   ]
  },
  {
   "cell_type": "code",
   "execution_count": 3,
   "id": "515242ce",
   "metadata": {},
   "outputs": [
    {
     "name": "stdout",
     "output_type": "stream",
     "text": [
      "Loading weights from yolox/yolox_s.pth\n",
      "Loaded weights:\n",
      "  Missing keys: 0\n",
      "  Unexpected keys: 0\n"
     ]
    }
   ],
   "source": [
    "num_classes = 80\n",
    "weight_path = download_weights(\"yolox/yolox_s.pth\")\n",
    "model = create_yolox_s(num_classes)\n",
    "model = load_pretrained_weights(model, weight_path, num_classes)"
   ]
  },
  {
   "cell_type": "code",
   "execution_count": 4,
   "id": "6ea48905",
   "metadata": {},
   "outputs": [],
   "source": [
    "model.eval().cuda()\n",
    "dataset = PPE_DATA()\n",
    "\n",
    "def yolo_collate(batch):\n",
    "    imgs   = torch.stack([b[0] for b in batch])   #  (B,3,640,640)\n",
    "    labels = [b[1] for b in batch]                #  list of length B\n",
    "    return imgs, labels\n",
    "\n",
    "loader = DataLoader(dataset, batch_size=16, shuffle = False, collate_fn=yolo_collate)"
   ]
  },
  {
   "cell_type": "code",
   "execution_count": 9,
   "id": "002db27d",
   "metadata": {},
   "outputs": [
    {
     "name": "stdout",
     "output_type": "stream",
     "text": [
      "torch.Size([1, 8400, 85])\n"
     ]
    }
   ],
   "source": [
    "img, label = dataset[4]\n",
    "output = model(img.unsqueeze(0).cuda())  # Add batch dimension\n",
    "print(output.shape)"
   ]
  },
  {
   "cell_type": "code",
   "execution_count": 15,
   "id": "0e825d99",
   "metadata": {},
   "outputs": [
    {
     "name": "stdout",
     "output_type": "stream",
     "text": [
      "torch.Size([16, 8400, 85])\n"
     ]
    }
   ],
   "source": [
    "img, label = next(iter(loader))\n",
    "output = model(img.cuda())  # Add batch dimension\n",
    "print(output.shape)"
   ]
  },
  {
   "cell_type": "code",
   "execution_count": null,
   "id": "5a9079ec",
   "metadata": {},
   "outputs": [],
   "source": [
    "for batch in loader:\n",
    "    img, label = batch\n",
    "    img = img.cuda()\n",
    "    model = model.cuda()\n",
    "    \n",
    "    with torch.no_grad():\n",
    "        # Forward pass through the model\n",
    "        # noise = torch.randn_like(img).cuda()\n",
    "        output = model(img)\n",
    "        obj = output[..., 4:5]\n",
    "        print(obj.max())"
   ]
  },
  {
   "cell_type": "code",
   "execution_count": 25,
   "id": "7a238e82",
   "metadata": {},
   "outputs": [
    {
     "name": "stdout",
     "output_type": "stream",
     "text": [
      "torch.Size([21, 4]) torch.Size([9])\n",
      "torch.Size([9, 6])\n"
     ]
    }
   ],
   "source": [
    "#TODO fix for batches\n",
    "def post_process_img(output, confidence_threshold = 0.25, iou_threshold = 0.5):\n",
    "    x1 = output[..., 0:1] - output[..., 2:3] / 2\n",
    "    y1 = output[..., 1:2] - output[..., 3:4] / 2\n",
    "    x2 = output[..., 0:1] + output[..., 2:3] / 2\n",
    "    y2 = output[..., 1:2] + output[..., 3:4] / 2\n",
    "\n",
    "    # boxes: (batch, num_anchors, 4)\n",
    "    boxes = torch.cat([x1, y1, x2, y2], dim=-1)\n",
    "\n",
    "    # (batch, num_anchors, 1)\n",
    "    obj = output[..., 4:5]\n",
    "    class_probs = output[..., 5:]\n",
    "\n",
    "    scores = obj * class_probs\n",
    "    best_scores, best_class = scores.max(dim=-1)\n",
    "\n",
    "    mask = best_scores > confidence_threshold\n",
    "    best_scores = best_scores[mask] \n",
    "    best_class = best_class[mask] \n",
    "    boxes = boxes[mask]\n",
    "    keep = batched_nms(boxes, best_class, best_scores, iou_threshold = iou_threshold)\n",
    "    print(boxes.shape, keep.shape)\n",
    "    final_boxes = boxes[keep]\n",
    "    final_classes = best_class[keep]\n",
    "    final_scores = best_scores[keep]\n",
    "    # final classes and final scores have shape (num_kept,), so unsqueeze to add the dim 1 again\n",
    "    predictions = torch.cat((final_classes.unsqueeze(1), \n",
    "                             final_boxes, \n",
    "                             final_scores.unsqueeze(1)), dim=1)\n",
    "    return predictions\n",
    "preds = post_process_img(output[0])\n",
    "print(preds.shape)"
   ]
  },
  {
   "cell_type": "code",
   "execution_count": null,
   "id": "b325188c",
   "metadata": {},
   "outputs": [
    {
     "name": "stdout",
     "output_type": "stream",
     "text": [
      "torch.Size([3, 5])\n",
      "tensor(0., device='cuda:0', grad_fn=<UnbindBackward0>)\n",
      "tensor(0., device='cuda:0', grad_fn=<UnbindBackward0>)\n",
      "tensor(0., device='cuda:0', grad_fn=<UnbindBackward0>)\n"
     ]
    }
   ],
   "source": [
    "# labels = torch.cat((final_classes.unsqueeze(1), final_boxes), dim=1)\n",
    "# print(labels.shape)\n",
    "# if labels.shape[0] == 0:\n",
    "#     print(\"No detections found.\")\n",
    "# else:\n",
    "#     PPE_DATA.show_img(img, labels[:20, :], rect_coords_centered=False)"
   ]
  },
  {
   "cell_type": "code",
   "execution_count": 27,
   "id": "d329625b",
   "metadata": {},
   "outputs": [
    {
     "name": "stdout",
     "output_type": "stream",
     "text": [
      "tensor(56., device='cuda:0', grad_fn=<UnbindBackward0>)\n",
      "tensor(0., device='cuda:0', grad_fn=<UnbindBackward0>)\n",
      "tensor(0., device='cuda:0', grad_fn=<UnbindBackward0>)\n",
      "tensor(0., device='cuda:0', grad_fn=<UnbindBackward0>)\n",
      "tensor(0., device='cuda:0', grad_fn=<UnbindBackward0>)\n",
      "tensor(0., device='cuda:0', grad_fn=<UnbindBackward0>)\n",
      "tensor(0., device='cuda:0', grad_fn=<UnbindBackward0>)\n",
      "tensor(0., device='cuda:0', grad_fn=<UnbindBackward0>)\n",
      "tensor(0., device='cuda:0', grad_fn=<UnbindBackward0>)\n"
     ]
    }
   ],
   "source": [
    "PPE_DATA.show_img(img[0], preds[:, :5], rect_coords_centered=False, output_file=\"output2.png\")"
   ]
  }
 ],
 "metadata": {
  "kernelspec": {
   "display_name": "Python 3 (ipykernel)",
   "language": "python",
   "name": "python3"
  },
  "language_info": {
   "codemirror_mode": {
    "name": "ipython",
    "version": 3
   },
   "file_extension": ".py",
   "mimetype": "text/x-python",
   "name": "python",
   "nbconvert_exporter": "python",
   "pygments_lexer": "ipython3",
   "version": "3.12.5"
  }
 },
 "nbformat": 4,
 "nbformat_minor": 5
}
